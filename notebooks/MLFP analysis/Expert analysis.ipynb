{
 "cells": [
  {
   "cell_type": "code",
   "execution_count": 1,
   "id": "9adf8714",
   "metadata": {},
   "outputs": [
    {
     "data": {
      "text/plain": [
       "{'Disease': {'Unattempted': 175,\n",
       "  'Red': 5,\n",
       "  'Amber': 3,\n",
       "  'Green': 117,\n",
       "  'Attempted': 125,\n",
       "  'Total': 300,\n",
       "  '% Unattempted': 58.333333333333336,\n",
       "  '% Red': 4.0,\n",
       "  '% Amber': 2.4,\n",
       "  '% Green': 93.60000000000001},\n",
       " 'Gene_protein': {'Unattempted': 230,\n",
       "  'Red': 5,\n",
       "  'Amber': 1,\n",
       "  'Green': 64,\n",
       "  'Attempted': 70,\n",
       "  'Total': 300,\n",
       "  '% Unattempted': 76.66666666666667,\n",
       "  '% Red': 7.142857142857142,\n",
       "  '% Amber': 1.4285714285714286,\n",
       "  '% Green': 91.42857142857143},\n",
       " 'Organism': {'Unattempted': 260,\n",
       "  'Red': 2,\n",
       "  'Amber': 4,\n",
       "  'Green': 34,\n",
       "  'Attempted': 40,\n",
       "  'Total': 300,\n",
       "  '% Unattempted': 86.66666666666667,\n",
       "  '% Red': 5.0,\n",
       "  '% Amber': 10.0,\n",
       "  '% Green': 85.0}}"
      ]
     },
     "execution_count": 1,
     "metadata": {},
     "output_type": "execute_result"
    }
   ],
   "source": [
    "# Get the data from the google sheet\n",
    "\n",
    "# https://docs.google.com/spreadsheets/d/1co5Zp4C0rFfsj7ZzXaZW6C3ubOU4JSBv_BAXZbez7yE/edit#gid=415835194\n",
    "\n",
    "\n",
    "\n",
    "data = {\n",
    "    \"Disease\": {\"Unattempted\": 175, \"Red\": 5, \"Amber\": 3, \"Green\": 117, \"Attempted\": 125, \"Total\": 300},\n",
    "    \"Gene_protein\": {\"Unattempted\": 230, \"Red\": 5, \"Amber\": 1, \"Green\": 64, \"Attempted\": 70, \"Total\": 300},\n",
    "    \"Organism\": {\"Unattempted\": 260, \"Red\": 2, \"Amber\": 4, \"Green\": 34, \"Attempted\": 40, \"Total\": 300}\n",
    "}\n",
    "\n",
    "# Adding percentage calculations to the dictionary\n",
    "for entity, values in data.items():\n",
    "    data[entity]['% Unattempted'] = (values['Unattempted'] / values['Total']) * 100\n",
    "    data[entity]['% Red'] = (values['Red'] / values['Attempted']) * 100\n",
    "    data[entity]['% Amber'] = (values['Amber'] / values['Attempted']) * 100\n",
    "    data[entity]['% Green'] = (values['Green'] / values['Attempted']) * 100\n",
    "\n",
    "data\n",
    "\n"
   ]
  },
  {
   "cell_type": "code",
   "execution_count": 3,
   "id": "dae72036",
   "metadata": {},
   "outputs": [
    {
     "name": "stdout",
     "output_type": "stream",
     "text": [
      "Collecting matplotlib\n",
      "  Downloading matplotlib-3.8.1-cp310-cp310-manylinux_2_17_x86_64.manylinux2014_x86_64.whl (11.6 MB)\n",
      "\u001b[2K     \u001b[38;2;114;156;31m━━━━━━━━━━━━━━━━━━━━━━━━━━━━━━━━━━━━━━━━\u001b[0m \u001b[32m11.6/11.6 MB\u001b[0m \u001b[31m10.8 MB/s\u001b[0m eta \u001b[36m0:00:00\u001b[0mm eta \u001b[36m0:00:01\u001b[0m[36m0:00:01\u001b[0m\n",
      "\u001b[?25hRequirement already satisfied: python-dateutil>=2.7 in /home/stirunag/.pyenv/versions/3.10.6/lib/python3.10/site-packages (from matplotlib) (2.8.2)\n",
      "Collecting pillow>=8\n",
      "  Downloading Pillow-10.1.0-cp310-cp310-manylinux_2_28_x86_64.whl (3.6 MB)\n",
      "\u001b[2K     \u001b[38;2;114;156;31m━━━━━━━━━━━━━━━━━━━━━━━━━━━━━━━━━━━━━━━━\u001b[0m \u001b[32m3.6/3.6 MB\u001b[0m \u001b[31m14.3 MB/s\u001b[0m eta \u001b[36m0:00:00\u001b[0m MB/s\u001b[0m eta \u001b[36m0:00:01\u001b[0m:01\u001b[0m\n",
      "\u001b[?25hCollecting pyparsing>=2.3.1\n",
      "  Downloading pyparsing-3.1.1-py3-none-any.whl (103 kB)\n",
      "\u001b[2K     \u001b[38;2;114;156;31m━━━━━━━━━━━━━━━━━━━━━━━━━━━━━━━━━━━━━━\u001b[0m \u001b[32m103.1/103.1 kB\u001b[0m \u001b[31m15.2 MB/s\u001b[0m eta \u001b[36m0:00:00\u001b[0m\n",
      "\u001b[?25hRequirement already satisfied: packaging>=20.0 in /home/stirunag/.pyenv/versions/3.10.6/lib/python3.10/site-packages (from matplotlib) (23.0)\n",
      "Collecting kiwisolver>=1.3.1\n",
      "  Downloading kiwisolver-1.4.5-cp310-cp310-manylinux_2_12_x86_64.manylinux2010_x86_64.whl (1.6 MB)\n",
      "\u001b[2K     \u001b[38;2;114;156;31m━━━━━━━━━━━━━━━━━━━━━━━━━━━━━━━━━━━━━━━━\u001b[0m \u001b[32m1.6/1.6 MB\u001b[0m \u001b[31m12.7 MB/s\u001b[0m eta \u001b[36m0:00:00\u001b[0m MB/s\u001b[0m eta \u001b[36m0:00:01\u001b[0m01\u001b[0m\n",
      "\u001b[?25hCollecting fonttools>=4.22.0\n",
      "  Downloading fonttools-4.44.0-cp310-cp310-manylinux_2_17_x86_64.manylinux2014_x86_64.whl (4.5 MB)\n",
      "\u001b[2K     \u001b[38;2;114;156;31m━━━━━━━━━━━━━━━━━━━━━━━━━━━━━━━━━━━━━━━━\u001b[0m \u001b[32m4.5/4.5 MB\u001b[0m \u001b[31m19.2 MB/s\u001b[0m eta \u001b[36m0:00:00\u001b[0m31m20.3 MB/s\u001b[0m eta \u001b[36m0:00:01\u001b[0m\n",
      "\u001b[?25hCollecting contourpy>=1.0.1\n",
      "  Downloading contourpy-1.2.0-cp310-cp310-manylinux_2_17_x86_64.manylinux2014_x86_64.whl (310 kB)\n",
      "\u001b[2K     \u001b[38;2;114;156;31m━━━━━━━━━━━━━━━━━━━━━━━━━━━━━━━━━━━━━━\u001b[0m \u001b[32m310.7/310.7 kB\u001b[0m \u001b[31m13.7 MB/s\u001b[0m eta \u001b[36m0:00:00\u001b[0m\n",
      "\u001b[?25hCollecting cycler>=0.10\n",
      "  Downloading cycler-0.12.1-py3-none-any.whl (8.3 kB)\n",
      "Requirement already satisfied: numpy<2,>=1.21 in /home/stirunag/.pyenv/versions/3.10.6/lib/python3.10/site-packages (from matplotlib) (1.24.2)\n",
      "Requirement already satisfied: six>=1.5 in /home/stirunag/.pyenv/versions/3.10.6/lib/python3.10/site-packages (from python-dateutil>=2.7->matplotlib) (1.16.0)\n",
      "Installing collected packages: pyparsing, pillow, kiwisolver, fonttools, cycler, contourpy, matplotlib\n",
      "Successfully installed contourpy-1.2.0 cycler-0.12.1 fonttools-4.44.0 kiwisolver-1.4.5 matplotlib-3.8.1 pillow-10.1.0 pyparsing-3.1.1\n",
      "\n",
      "\u001b[1m[\u001b[0m\u001b[34;49mnotice\u001b[0m\u001b[1;39;49m]\u001b[0m\u001b[39;49m A new release of pip is available: \u001b[0m\u001b[31;49m23.0.1\u001b[0m\u001b[39;49m -> \u001b[0m\u001b[32;49m23.3.1\u001b[0m\n",
      "\u001b[1m[\u001b[0m\u001b[34;49mnotice\u001b[0m\u001b[1;39;49m]\u001b[0m\u001b[39;49m To update, run: \u001b[0m\u001b[32;49mpip install --upgrade pip\u001b[0m\n"
     ]
    }
   ],
   "source": [
    "# !pip install matplotlib"
   ]
  },
  {
   "cell_type": "code",
   "execution_count": 2,
   "id": "b09228b3",
   "metadata": {},
   "outputs": [
    {
     "ename": "ModuleNotFoundError",
     "evalue": "No module named 'matplotlib'",
     "output_type": "error",
     "traceback": [
      "\u001b[0;31m---------------------------------------------------------------------------\u001b[0m",
      "\u001b[0;31mModuleNotFoundError\u001b[0m                       Traceback (most recent call last)",
      "Cell \u001b[0;32mIn[2], line 1\u001b[0m\n\u001b[0;32m----> 1\u001b[0m \u001b[38;5;28;01mimport\u001b[39;00m \u001b[38;5;21;01mmatplotlib\u001b[39;00m\u001b[38;5;21;01m.\u001b[39;00m\u001b[38;5;21;01mpyplot\u001b[39;00m \u001b[38;5;28;01mas\u001b[39;00m \u001b[38;5;21;01mplt\u001b[39;00m\n\u001b[1;32m      3\u001b[0m \u001b[38;5;66;03m# Extracting data for the bar chart\u001b[39;00m\n\u001b[1;32m      4\u001b[0m entities \u001b[38;5;241m=\u001b[39m [\u001b[38;5;124m'\u001b[39m\u001b[38;5;124mDisease\u001b[39m\u001b[38;5;124m'\u001b[39m, \u001b[38;5;124m'\u001b[39m\u001b[38;5;124mGene_protein\u001b[39m\u001b[38;5;124m'\u001b[39m, \u001b[38;5;124m'\u001b[39m\u001b[38;5;124mOrganism\u001b[39m\u001b[38;5;124m'\u001b[39m]\n",
      "\u001b[0;31mModuleNotFoundError\u001b[0m: No module named 'matplotlib'"
     ]
    }
   ],
   "source": [
    "import matplotlib.pyplot as plt\n",
    "\n",
    "# Extracting data for the bar chart\n",
    "entities = ['Disease', 'Gene_protein', 'Organism']\n",
    "percent_green = [data[entity]['% Green'] for entity in entities]\n",
    "percent_amber = [data[entity]['% Amber'] for entity in entities]\n",
    "percent_red = [data[entity]['% Red'] for entity in entities]\n",
    "\n",
    "# Plotting the bar chart\n",
    "plt.figure(figsize=(10, 6))\n",
    "barWidth = 0.25\n",
    "\n",
    "# Set position of bar on X axis\n",
    "r1 = [x for x in range(len(percent_green))]\n",
    "r2 = [x + barWidth for x in r1]\n",
    "r3 = [x + barWidth for x in r2]\n",
    "\n",
    "# Make the plot\n",
    "plt.bar(r1, percent_green, color='green', width=barWidth, edgecolor='grey', label='Green (Correct)')\n",
    "plt.bar(r2, percent_amber, color='orange', width=barWidth, edgecolor='grey', label='Amber (Neutral)')\n",
    "plt.bar(r3, percent_red, color='red', width=barWidth, edgecolor='grey', label='Red (Incorrect)')\n",
    "\n",
    "# Adding percentages on top of bars\n",
    "for i in range(len(entities)):\n",
    "    plt.text(r1[i], percent_green[i] + 1, f'{percent_green[i]:.2f}%', ha='center')\n",
    "    plt.text(r2[i], percent_amber[i] + 1, f'{percent_amber[i]:.2f}%', ha='center')\n",
    "    plt.text(r3[i], percent_red[i] + 1, f'{percent_red[i]:.2f}%', ha='center')\n",
    "\n",
    "# Adding Xticks\n",
    "plt.xlabel('Entity Types', fontweight='bold')\n",
    "plt.xticks([r + barWidth for r in range(len(percent_green))], entities)\n",
    "\n",
    "# Adding labels and title\n",
    "plt.ylabel('Percentages')\n",
    "plt.title('Percentage Distribution of Sentence Classification by Entity')\n",
    "\n",
    "plt.legend()\n",
    "plt.show()\n",
    "\n"
   ]
  },
  {
   "cell_type": "code",
   "execution_count": null,
   "id": "6912cc0f",
   "metadata": {},
   "outputs": [],
   "source": []
  }
 ],
 "metadata": {
  "kernelspec": {
   "display_name": "Python 3 (ipykernel)",
   "language": "python",
   "name": "python3"
  },
  "language_info": {
   "codemirror_mode": {
    "name": "ipython",
    "version": 3
   },
   "file_extension": ".py",
   "mimetype": "text/x-python",
   "name": "python",
   "nbconvert_exporter": "python",
   "pygments_lexer": "ipython3",
   "version": "3.10.6"
  }
 },
 "nbformat": 4,
 "nbformat_minor": 5
}
