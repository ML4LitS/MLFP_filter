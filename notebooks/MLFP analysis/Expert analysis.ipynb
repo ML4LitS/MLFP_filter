{
 "cells": [
  {
   "cell_type": "code",
   "execution_count": 1,
   "id": "59f627ec",
   "metadata": {},
   "outputs": [
    {
     "data": {
      "text/plain": [
       "{'Disease': {'Unattempted': 175,\n",
       "  'Red': 5,\n",
       "  'Amber': 3,\n",
       "  'Green': 117,\n",
       "  'Attempted': 125,\n",
       "  'Total': 300,\n",
       "  '% Unattempted': 58.333333333333336,\n",
       "  '% Red': 4.0,\n",
       "  '% Amber': 2.4,\n",
       "  '% Green': 93.60000000000001},\n",
       " 'Gene_protein': {'Unattempted': 230,\n",
       "  'Red': 5,\n",
       "  'Amber': 1,\n",
       "  'Green': 64,\n",
       "  'Attempted': 70,\n",
       "  'Total': 300,\n",
       "  '% Unattempted': 76.66666666666667,\n",
       "  '% Red': 7.142857142857142,\n",
       "  '% Amber': 1.4285714285714286,\n",
       "  '% Green': 91.42857142857143},\n",
       " 'Organism': {'Unattempted': 260,\n",
       "  'Red': 2,\n",
       "  'Amber': 4,\n",
       "  'Green': 34,\n",
       "  'Attempted': 40,\n",
       "  'Total': 300,\n",
       "  '% Unattempted': 86.66666666666667,\n",
       "  '% Red': 5.0,\n",
       "  '% Amber': 10.0,\n",
       "  '% Green': 85.0}}"
      ]
     },
     "execution_count": 1,
     "metadata": {},
     "output_type": "execute_result"
    }
   ],
   "source": [
    "# Get the data from the google sheet\n",
    "\n",
    "# https://docs.google.com/spreadsheets/d/1co5Zp4C0rFfsj7ZzXaZW6C3ubOU4JSBv_BAXZbez7yE/edit#gid=415835194\n",
    "\n",
    "\n",
    "\n",
    "data = {\n",
    "    \"Disease\": {\"Unattempted\": 175, \"Red\": 5, \"Amber\": 3, \"Green\": 117, \"Attempted\": 125, \"Total\": 300},\n",
    "    \"Gene_protein\": {\"Unattempted\": 230, \"Red\": 5, \"Amber\": 1, \"Green\": 64, \"Attempted\": 70, \"Total\": 300},\n",
    "    \"Organism\": {\"Unattempted\": 260, \"Red\": 2, \"Amber\": 4, \"Green\": 34, \"Attempted\": 40, \"Total\": 300}\n",
    "}\n",
    "\n",
    "# Adding percentage calculations to the dictionary\n",
    "for entity, values in data.items():\n",
    "    data[entity]['% Unattempted'] = (values['Unattempted'] / values['Total']) * 100\n",
    "    data[entity]['% Red'] = (values['Red'] / values['Attempted']) * 100\n",
    "    data[entity]['% Amber'] = (values['Amber'] / values['Attempted']) * 100\n",
    "    data[entity]['% Green'] = (values['Green'] / values['Attempted']) * 100\n",
    "\n",
    "data\n",
    "\n"
   ]
  },
  {
   "cell_type": "code",
   "execution_count": null,
   "id": "ae4f0db0",
   "metadata": {},
   "outputs": [],
   "source": []
  }
 ],
 "metadata": {
  "kernelspec": {
   "display_name": "Python 3 (ipykernel)",
   "language": "python",
   "name": "python3"
  },
  "language_info": {
   "codemirror_mode": {
    "name": "ipython",
    "version": 3
   },
   "file_extension": ".py",
   "mimetype": "text/x-python",
   "name": "python",
   "nbconvert_exporter": "python",
   "pygments_lexer": "ipython3",
   "version": "3.10.6"
  }
 },
 "nbformat": 4,
 "nbformat_minor": 5
}
